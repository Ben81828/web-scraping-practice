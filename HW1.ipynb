{
 "cells": [
  {
   "cell_type": "code",
   "execution_count": 1,
   "id": "5ce187ea-f127-4d1d-bda0-9d438266e6c1",
   "metadata": {},
   "outputs": [],
   "source": [
    "import requests as req\n",
    "from bs4 import BeautifulSoup as bs\n",
    "from pprint import pprint\n",
    "import re\n",
    "\n",
    "my_headers = {\n",
    "    'user-agent': 'Mozilla/5.0 (Windows NT 10.0; Win64; x64) AppleWebKit/537.36 (KHTML, like Gecko) Chrome/99.0.4844.82 Safari/537.36'\n",
    "}\n",
    "\n",
    "#古騰堡首頁連線\n",
    "url = 'https://www.gutenberg.org/browse/languages/zh'\n",
    "res = req.get(url, headers=my_headers)\n",
    "soup = bs(res.text, 'lxml')"
   ]
  },
  {
   "cell_type": "code",
   "execution_count": 2,
   "id": "1a980041-1eba-4334-b6dc-1c7f7cfcc535",
   "metadata": {},
   "outputs": [
    {
     "name": "stdout",
     "output_type": "stream",
     "text": [
      "準備下載: 豆棚閒話，連結: https://www.gutenberg.org/ebooks/25328 。進入內文頁面，開始解析。豆棚閒話下載完成，目前共下載1/250本小說\n",
      "準備下載: 戲中戲，連結: https://www.gutenberg.org/ebooks/24225 。進入內文頁面，開始解析。戲中戲下載完成，目前共下載2/250本小說\n",
      "準備下載: 比目魚，連結: https://www.gutenberg.org/ebooks/27119 。進入內文頁面，開始解析。比目魚下載完成，目前共下載3/250本小說\n",
      "準備下載: 比目魚，連結: https://www.gutenberg.org/ebooks/24185 。進入內文頁面，開始解析。比目魚下載完成，目前共下載4/250本小說\n",
      "準備下載: Study of Inner Cultivation，連結: https://www.gutenberg.org/ebooks/38585 。Study of Inner Cultivation為英文小說，跳過\n",
      "準備下載: 三字經，連結: https://www.gutenberg.org/ebooks/12479 。進入內文頁面，開始解析。三字經下載完成，目前共下載5/250本小說\n",
      "準備下載: 山水情，連結: https://www.gutenberg.org/ebooks/25146 。進入內文頁面，開始解析。山水情下載完成，目前共下載6/250本小說\n",
      "準備下載: 山海經，連結: https://www.gutenberg.org/ebooks/25288 。進入內文頁面，開始解析。山海經下載完成，目前共下載7/250本小說\n",
      "準備下載: 施公案，連結: https://www.gutenberg.org/ebooks/23825 。進入內文頁面，開始解析。施公案下載完成，目前共下載8/250本小說\n",
      "準備下載: 施公案，連結: https://www.gutenberg.org/ebooks/25393 。"
     ]
    },
    {
     "name": "stderr",
     "output_type": "stream",
     "text": [
      "\n",
      "KeyboardInterrupt\n",
      "\n"
     ]
    }
   ],
   "source": [
    "#從首頁抓取每本小說的頁面url\n",
    "novelURLs = tuple(soup.select('li.pgdbetext a'))\n",
    "\n",
    "#計數器，到250結束\n",
    "counter = 0\n",
    "#迴圈準備進小說頁面\n",
    "for i in novelURLs:\n",
    "    \n",
    "    #進小說頁面\n",
    "    novelName = i.get_text()\n",
    "    link = 'https://www.gutenberg.org'+i['href']\n",
    "    res_ = req.get(link, headers=my_headers)\n",
    "    soup_ = bs(res_.text, 'lxml')\n",
    "    print(f'準備下載: {novelName}，連結: {link} 。', end='')\n",
    "    \n",
    "    #確認小說語言，英文小說跳過不抓\n",
    "    En = False\n",
    "    for lang in soup_.select('tr[property=\"dcterms:language\"] td'):\n",
    "        if lang.get_text()=='English':\n",
    "            En = True\n",
    "    if En:\n",
    "        print(f'{novelName}為英文小說，跳過')\n",
    "        continue\n",
    "\n",
    "    #進入內文頁面\n",
    "    text_link = 'https://www.gutenberg.org'+soup_.select_one('a[type=\"text/html\"]')['href']\n",
    "    res_ = req.get(text_link, headers=my_headers)\n",
    "    soup_ = bs(res_.text, 'lxml')\n",
    "    print(f'進入內文頁面，開始解析。', end='')\n",
    "    \n",
    "    \n",
    "    #抓取內文，刪掉英文部分(標題中文字會被保留導致重複)\n",
    "    text = soup_.select_one('body').get_text()\n",
    "    pattern = r\"(?=[^。!？:；)」』》〉～~、．…])[\\s\\W\\dA-Za-z]+(?<=[A-Za-z])(?=[^A-Za-z])[\\.\\!\\:\\s]*\"\n",
    "    text = re.sub(pattern, '', text)\n",
    "    \n",
    "    #去除開頭重複兩次的標題\n",
    "    novelName = soup_.select_one('body section.pg-boilerplate.pgheader h2 span').get_text()\n",
    "    text = re.sub(novelName, '', text, 2)\n",
    "    \n",
    "    #標題到內文中間加換行\n",
    "    text = f'標題: <{novelName}>' +'\\n'+ text\n",
    "    \n",
    "    #寫入text\n",
    "    path = f\"作業-小說下載/{novelName}.txt\"\n",
    "    with open(path, 'w',encoding='utf-8-sig') as f:\n",
    "        f.write(text)\n",
    "    print(f'{novelName}下載完成，目前共下載{counter+1}/250本小說')\n",
    "\n",
    "    #計數器+1，到250時結束\n",
    "    counter+=1\n",
    "    if counter > 250:\n",
    "        print('結束下載')\n",
    "        break"
   ]
  },
  {
   "cell_type": "code",
   "execution_count": null,
   "id": "9d1f3524-32e0-4894-a76b-ad778681afa5",
   "metadata": {},
   "outputs": [],
   "source": []
  }
 ],
 "metadata": {
  "kernelspec": {
   "display_name": "Python 3 (ipykernel)",
   "language": "python",
   "name": "python3"
  },
  "language_info": {
   "codemirror_mode": {
    "name": "ipython",
    "version": 3
   },
   "file_extension": ".py",
   "mimetype": "text/x-python",
   "name": "python",
   "nbconvert_exporter": "python",
   "pygments_lexer": "ipython3",
   "version": "3.10.3"
  }
 },
 "nbformat": 4,
 "nbformat_minor": 5
}
